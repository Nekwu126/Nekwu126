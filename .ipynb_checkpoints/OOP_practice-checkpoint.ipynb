{
 "cells": [
  {
   "cell_type": "code",
   "execution_count": 2,
   "id": "194952fb-9dca-4ec9-97e7-7701c8f0fc04",
   "metadata": {},
   "outputs": [
    {
     "name": "stdout",
     "output_type": "stream",
     "text": [
      "<class 'int'>\n"
     ]
    }
   ],
   "source": [
    "x = 1\n",
    "print(type(x))"
   ]
  },
  {
   "cell_type": "code",
   "execution_count": 1,
   "id": "828c4d30-66b9-4d75-9e00-131c0aedba64",
   "metadata": {},
   "outputs": [],
   "source": [
    "\n",
    "\n",
    "class Car:\n",
    "    make = None\n",
    "    model = None\n",
    "    year = None\n",
    "    colour = None\n",
    "\n",
    "def __init__(self,make,model,year,colour):\n",
    "    self.make = make\n",
    "    self.model = model\n",
    "    self.year = year\n",
    "    self.colour = colour\n",
    "\n",
    "def drive(self):\n",
    "    print(\"This car is driving\")\n",
    "\n",
    "def stop(self):\n",
    "    print(\"This car is stopping\")\n",
    "    "
   ]
  },
  {
   "cell_type": "code",
   "execution_count": 3,
   "id": "604d70b8-edb0-431b-9849-1b45a8946814",
   "metadata": {},
   "outputs": [
    {
     "name": "stdout",
     "output_type": "stream",
     "text": [
      "<class 'function'>\n"
     ]
    }
   ],
   "source": [
    "def hello():\n",
    "    print(\"hello\")\n",
    "\n",
    "x = 1\n",
    "print(type(hello))"
   ]
  },
  {
   "cell_type": "code",
   "execution_count": 5,
   "id": "5458a1c7-68b9-42e1-b0ac-26f022f448e0",
   "metadata": {},
   "outputs": [
    {
     "name": "stdout",
     "output_type": "stream",
     "text": [
      "3\n"
     ]
    }
   ],
   "source": [
    "x = 1\n",
    "y = 2\n",
    "print(x + y)"
   ]
  },
  {
   "cell_type": "code",
   "execution_count": 6,
   "id": "8c0d0cba-40b2-4fe9-8c7b-8809af68c7ca",
   "metadata": {},
   "outputs": [
    {
     "name": "stdout",
     "output_type": "stream",
     "text": [
      "HELLO\n"
     ]
    }
   ],
   "source": [
    "#putting a word in uppercase\n",
    "string = \"hello\"\n",
    "print(string.upper()) #.upper() is a method. Methods usually look like this"
   ]
  },
  {
   "cell_type": "code",
   "execution_count": 9,
   "id": "0f7a660a-de7c-4d68-b34a-66d8239faa88",
   "metadata": {},
   "outputs": [
    {
     "name": "stdout",
     "output_type": "stream",
     "text": [
      "bark\n",
      "6\n"
     ]
    }
   ],
   "source": [
    "class Dog:\n",
    "\n",
    "    def add_one(self, x):\n",
    "        return x + 1\n",
    "\n",
    "\n",
    "    def bark(self):\n",
    "        print(\"bark\") \n",
    "d = Dog()\n",
    "d.bark()\n",
    "print(d.add_one(5))"
   ]
  },
  {
   "cell_type": "code",
   "execution_count": null,
   "id": "e920411c-88b3-400f-9e54-0b658030432d",
   "metadata": {},
   "outputs": [],
   "source": []
  }
 ],
 "metadata": {
  "kernelspec": {
   "display_name": "Python 3 (ipykernel)",
   "language": "python",
   "name": "python3"
  },
  "language_info": {
   "codemirror_mode": {
    "name": "ipython",
    "version": 3
   },
   "file_extension": ".py",
   "mimetype": "text/x-python",
   "name": "python",
   "nbconvert_exporter": "python",
   "pygments_lexer": "ipython3",
   "version": "3.11.7"
  }
 },
 "nbformat": 4,
 "nbformat_minor": 5
}
