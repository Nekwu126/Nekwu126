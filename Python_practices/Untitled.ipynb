{
 "cells": [
  {
   "cell_type": "code",
   "execution_count": 7,
   "id": "db3d170c-ccda-46a0-89e0-b4e518e1c1e9",
   "metadata": {},
   "outputs": [
    {
     "name": "stdout",
     "output_type": "stream",
     "text": [
      "You are 21 years old\n"
     ]
    }
   ],
   "source": [
    "# variable = a reusable container for storing a  value\n",
    "             #a variable behaves as if it were the value it contains\n",
    "age = 21\n",
    "#print(age)\n",
    " #Ways of printing ints with string variables\n",
    "#print(\"You are \" + str(age) + \" years old\")\n",
    "#print(\"You are\", age, \"years old\")\n",
    "\n",
    "#spacing is inmprtant in python\n",
    "print(f\"You are {age} years old\")"
   ]
  },
  {
   "cell_type": "code",
   "execution_count": 11,
   "id": "3b22c7d0-b05b-4662-9490-40e54ab399cd",
   "metadata": {},
   "outputs": [
    {
     "name": "stdout",
     "output_type": "stream",
     "text": [
      "Are you online?: True\n",
      "Is the item for sale?: False\n",
      "Is the game running?: True\n"
     ]
    }
   ],
   "source": [
    "age = 21\n",
    "players = 2\n",
    "quantity = 5\n",
    "\n",
    "#print(f\"You are {age} years old\")\n",
    "#print(f\"There are {players} players online\")\n",
    "#print(f\"You would like to buy {quantity} items\")\n",
    "\n",
    "#FLOAT\n",
    "\n",
    "#gpa = 3.2\n",
    "#distance = 2.5\n",
    "#price = 10.99\n",
    "#print(f\"You ran {distance}km\")\n",
    "#print(f\"The price is ${price}\")\n",
    "\n",
    "#string = a series of characters within quotes\n",
    "\n",
    "#name = \"Bro\"\n",
    "#food = \"pizza\"\n",
    "#email = \"Bro123@gmail.com\"\n",
    "\n",
    "#print(f\"Hello {name}\")\n",
    "#print(f\"You like {food}\")\n",
    "#print(f\"Your email is: {email}\")\n",
    "\n",
    "#BOOLEAN\n",
    "\n",
    "online = True\n",
    "for_sale = False\n",
    "running = True\n",
    "\n",
    "print(f\"Are you online?: {online}\")\n",
    "print(f\"Is the item for sale?: {for_sale}\")\n",
    "print(f\"Is the game running?: {running}\")\n",
    "\n",
    "\n"
   ]
  },
  {
   "cell_type": "code",
   "execution_count": null,
   "id": "948d8c6f-a9a6-4436-a429-6b0e3499724d",
   "metadata": {},
   "outputs": [],
   "source": []
  }
 ],
 "metadata": {
  "kernelspec": {
   "display_name": "Python 3 (ipykernel)",
   "language": "python",
   "name": "python3"
  },
  "language_info": {
   "codemirror_mode": {
    "name": "ipython",
    "version": 3
   },
   "file_extension": ".py",
   "mimetype": "text/x-python",
   "name": "python",
   "nbconvert_exporter": "python",
   "pygments_lexer": "ipython3",
   "version": "3.11.7"
  }
 },
 "nbformat": 4,
 "nbformat_minor": 5
}
