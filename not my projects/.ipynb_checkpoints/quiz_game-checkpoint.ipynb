{
 "cells": [
  {
   "cell_type": "code",
   "execution_count": 1,
   "id": "67627e92-b30e-40ad-acae-556b1d5e864e",
   "metadata": {},
   "outputs": [
    {
     "name": "stdout",
     "output_type": "stream",
     "text": [
      "Welcome to my computer quiz!\n"
     ]
    },
    {
     "name": "stdin",
     "output_type": "stream",
     "text": [
      "Do you want to play?  no\n"
     ]
    },
    {
     "name": "stdout",
     "output_type": "stream",
     "text": [
      "Okay, Let's Playy :)\n"
     ]
    }
   ],
   "source": [
    "print(\"Welcome to my computer quiz!\")\n",
    "\n",
    "playing = input(\"Do you want to play? \")\n",
    "\n",
    "if playing != \"yes\":\n",
    "    quit()\n",
    "    print(\"Okay, Let's Playy :)\")\n"
   ]
  },
  {
   "cell_type": "code",
   "execution_count": null,
   "id": "b80d95e8-b427-45df-9f5c-6e6ff6d2ed75",
   "metadata": {},
   "outputs": [],
   "source": []
  }
 ],
 "metadata": {
  "kernelspec": {
   "display_name": "Python 3 (ipykernel)",
   "language": "python",
   "name": "python3"
  },
  "language_info": {
   "codemirror_mode": {
    "name": "ipython",
    "version": 3
   },
   "file_extension": ".py",
   "mimetype": "text/x-python",
   "name": "python",
   "nbconvert_exporter": "python",
   "pygments_lexer": "ipython3",
   "version": "3.11.7"
  }
 },
 "nbformat": 4,
 "nbformat_minor": 5
}
